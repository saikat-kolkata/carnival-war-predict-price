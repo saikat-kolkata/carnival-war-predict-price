{
 "cells": [
  {
   "cell_type": "markdown",
   "metadata": {},
   "source": [
    "## Apply Machine Learning algorithm to dataset after feature engineering"
   ]
  },
  {
   "cell_type": "code",
   "execution_count": 1,
   "metadata": {},
   "outputs": [],
   "source": [
    "#import libraries \n",
    "\n",
    "import pandas as pd\n",
    "import numpy as np\n",
    "import seaborn as sns\n",
    "import matplotlib.pyplot as plt"
   ]
  },
  {
   "cell_type": "code",
   "execution_count": 2,
   "metadata": {},
   "outputs": [],
   "source": [
    "#load datasets after feature engineering\n",
    "\n",
    "df=pd.read_csv('Train_cleaned.csv')\n",
    "df_test=pd.read_csv('Test_cleaned.csv')"
   ]
  },
  {
   "cell_type": "code",
   "execution_count": 3,
   "metadata": {},
   "outputs": [],
   "source": [
    "#new\n",
    "# df_test_Product_id = df_test['Product_id']\n"
   ]
  },
  {
   "cell_type": "code",
   "execution_count": 4,
   "metadata": {},
   "outputs": [],
   "source": [
    "#new\n",
    "# df=df[['Loyalty_customer','Product_Category','Grade','Discount_avail','Minimum_price','Maximum_price','year','Selling_Price']]\n",
    "# df_test=df_test[['Loyalty_customer','Product_Category','Grade','Discount_avail','Minimum_price','Maximum_price','year']]"
   ]
  },
  {
   "cell_type": "code",
   "execution_count": 5,
   "metadata": {},
   "outputs": [],
   "source": [
    "#new\n",
    "# x1_test = df_test.values"
   ]
  },
  {
   "cell_type": "code",
   "execution_count": 6,
   "metadata": {},
   "outputs": [
    {
     "data": {
      "text/html": [
       "<div>\n",
       "<style scoped>\n",
       "    .dataframe tbody tr th:only-of-type {\n",
       "        vertical-align: middle;\n",
       "    }\n",
       "\n",
       "    .dataframe tbody tr th {\n",
       "        vertical-align: top;\n",
       "    }\n",
       "\n",
       "    .dataframe thead th {\n",
       "        text-align: right;\n",
       "    }\n",
       "</style>\n",
       "<table border=\"1\" class=\"dataframe\">\n",
       "  <thead>\n",
       "    <tr style=\"text-align: right;\">\n",
       "      <th></th>\n",
       "      <th>Stall_no</th>\n",
       "      <th>Market_Category</th>\n",
       "      <th>Loyalty_customer</th>\n",
       "      <th>Product_Category</th>\n",
       "      <th>Grade</th>\n",
       "      <th>Demand</th>\n",
       "      <th>Discount_avail</th>\n",
       "      <th>charges_1</th>\n",
       "      <th>charges_2 (%)</th>\n",
       "      <th>Minimum_price</th>\n",
       "      <th>Maximum_price</th>\n",
       "      <th>Selling_Price</th>\n",
       "      <th>month</th>\n",
       "      <th>year</th>\n",
       "      <th>weekday</th>\n",
       "      <th>No_of_Week</th>\n",
       "    </tr>\n",
       "  </thead>\n",
       "  <tbody>\n",
       "    <tr>\n",
       "      <th>0</th>\n",
       "      <td>37.0</td>\n",
       "      <td>2</td>\n",
       "      <td>1</td>\n",
       "      <td>10</td>\n",
       "      <td>1</td>\n",
       "      <td>68</td>\n",
       "      <td>0.0</td>\n",
       "      <td>376.0</td>\n",
       "      <td>11.0</td>\n",
       "      <td>2983.0</td>\n",
       "      <td>4713.0</td>\n",
       "      <td>4185.947700</td>\n",
       "      <td>8</td>\n",
       "      <td>2015</td>\n",
       "      <td>5</td>\n",
       "      <td>34</td>\n",
       "    </tr>\n",
       "    <tr>\n",
       "      <th>1</th>\n",
       "      <td>38.0</td>\n",
       "      <td>24</td>\n",
       "      <td>1</td>\n",
       "      <td>10</td>\n",
       "      <td>0</td>\n",
       "      <td>51</td>\n",
       "      <td>0.0</td>\n",
       "      <td>397.0</td>\n",
       "      <td>12.0</td>\n",
       "      <td>7495.0</td>\n",
       "      <td>10352.0</td>\n",
       "      <td>9271.490256</td>\n",
       "      <td>3</td>\n",
       "      <td>2016</td>\n",
       "      <td>6</td>\n",
       "      <td>12</td>\n",
       "    </tr>\n",
       "    <tr>\n",
       "      <th>2</th>\n",
       "      <td>9.0</td>\n",
       "      <td>447</td>\n",
       "      <td>1</td>\n",
       "      <td>7</td>\n",
       "      <td>0</td>\n",
       "      <td>10</td>\n",
       "      <td>0.0</td>\n",
       "      <td>250.0</td>\n",
       "      <td>9.0</td>\n",
       "      <td>5752.0</td>\n",
       "      <td>7309.0</td>\n",
       "      <td>6785.701362</td>\n",
       "      <td>8</td>\n",
       "      <td>2015</td>\n",
       "      <td>1</td>\n",
       "      <td>34</td>\n",
       "    </tr>\n",
       "    <tr>\n",
       "      <th>3</th>\n",
       "      <td>50.0</td>\n",
       "      <td>23</td>\n",
       "      <td>1</td>\n",
       "      <td>1</td>\n",
       "      <td>2</td>\n",
       "      <td>48</td>\n",
       "      <td>0.0</td>\n",
       "      <td>144.0</td>\n",
       "      <td>13.0</td>\n",
       "      <td>5090.0</td>\n",
       "      <td>20814.0</td>\n",
       "      <td>13028.917824</td>\n",
       "      <td>3</td>\n",
       "      <td>2016</td>\n",
       "      <td>0</td>\n",
       "      <td>13</td>\n",
       "    </tr>\n",
       "    <tr>\n",
       "      <th>4</th>\n",
       "      <td>7.0</td>\n",
       "      <td>63</td>\n",
       "      <td>1</td>\n",
       "      <td>8</td>\n",
       "      <td>1</td>\n",
       "      <td>35</td>\n",
       "      <td>1.0</td>\n",
       "      <td>211.0</td>\n",
       "      <td>4.0</td>\n",
       "      <td>2430.0</td>\n",
       "      <td>9261.0</td>\n",
       "      <td>906.553935</td>\n",
       "      <td>3</td>\n",
       "      <td>2016</td>\n",
       "      <td>1</td>\n",
       "      <td>13</td>\n",
       "    </tr>\n",
       "  </tbody>\n",
       "</table>\n",
       "</div>"
      ],
      "text/plain": [
       "   Stall_no  Market_Category  Loyalty_customer  Product_Category  Grade  \\\n",
       "0      37.0                2                 1                10      1   \n",
       "1      38.0               24                 1                10      0   \n",
       "2       9.0              447                 1                 7      0   \n",
       "3      50.0               23                 1                 1      2   \n",
       "4       7.0               63                 1                 8      1   \n",
       "\n",
       "   Demand  Discount_avail  charges_1  charges_2 (%)  Minimum_price  \\\n",
       "0      68             0.0      376.0           11.0         2983.0   \n",
       "1      51             0.0      397.0           12.0         7495.0   \n",
       "2      10             0.0      250.0            9.0         5752.0   \n",
       "3      48             0.0      144.0           13.0         5090.0   \n",
       "4      35             1.0      211.0            4.0         2430.0   \n",
       "\n",
       "   Maximum_price  Selling_Price  month  year  weekday  No_of_Week  \n",
       "0         4713.0    4185.947700      8  2015        5          34  \n",
       "1        10352.0    9271.490256      3  2016        6          12  \n",
       "2         7309.0    6785.701362      8  2015        1          34  \n",
       "3        20814.0   13028.917824      3  2016        0          13  \n",
       "4         9261.0     906.553935      3  2016        1          13  "
      ]
     },
     "execution_count": 6,
     "metadata": {},
     "output_type": "execute_result"
    }
   ],
   "source": [
    "df.head() #head of the dataset"
   ]
  },
  {
   "cell_type": "code",
   "execution_count": 7,
   "metadata": {},
   "outputs": [
    {
     "data": {
      "text/html": [
       "<div>\n",
       "<style scoped>\n",
       "    .dataframe tbody tr th:only-of-type {\n",
       "        vertical-align: middle;\n",
       "    }\n",
       "\n",
       "    .dataframe tbody tr th {\n",
       "        vertical-align: top;\n",
       "    }\n",
       "\n",
       "    .dataframe thead th {\n",
       "        text-align: right;\n",
       "    }\n",
       "</style>\n",
       "<table border=\"1\" class=\"dataframe\">\n",
       "  <thead>\n",
       "    <tr style=\"text-align: right;\">\n",
       "      <th></th>\n",
       "      <th>Product_id</th>\n",
       "      <th>Stall_no</th>\n",
       "      <th>Market_Category</th>\n",
       "      <th>Loyalty_customer</th>\n",
       "      <th>Product_Category</th>\n",
       "      <th>Grade</th>\n",
       "      <th>Demand</th>\n",
       "      <th>Discount_avail</th>\n",
       "      <th>charges_1</th>\n",
       "      <th>charges_2 (%)</th>\n",
       "      <th>Minimum_price</th>\n",
       "      <th>Maximum_price</th>\n",
       "      <th>month</th>\n",
       "      <th>year</th>\n",
       "      <th>weekday</th>\n",
       "      <th>No_of_Week</th>\n",
       "    </tr>\n",
       "  </thead>\n",
       "  <tbody>\n",
       "    <tr>\n",
       "      <th>0</th>\n",
       "      <td>SCHE4YSTDVPVZVXW</td>\n",
       "      <td>39.0</td>\n",
       "      <td>205</td>\n",
       "      <td>0</td>\n",
       "      <td>10</td>\n",
       "      <td>0</td>\n",
       "      <td>90</td>\n",
       "      <td>0</td>\n",
       "      <td>380.0</td>\n",
       "      <td>16.0</td>\n",
       "      <td>2576.0</td>\n",
       "      <td>3340</td>\n",
       "      <td>1</td>\n",
       "      <td>2016</td>\n",
       "      <td>2</td>\n",
       "      <td>2</td>\n",
       "    </tr>\n",
       "    <tr>\n",
       "      <th>1</th>\n",
       "      <td>ACCEGCATKHNRXUHW</td>\n",
       "      <td>49.0</td>\n",
       "      <td>3</td>\n",
       "      <td>1</td>\n",
       "      <td>10</td>\n",
       "      <td>0</td>\n",
       "      <td>87</td>\n",
       "      <td>0</td>\n",
       "      <td>393.0</td>\n",
       "      <td>16.0</td>\n",
       "      <td>1202.0</td>\n",
       "      <td>1955</td>\n",
       "      <td>8</td>\n",
       "      <td>2015</td>\n",
       "      <td>6</td>\n",
       "      <td>34</td>\n",
       "    </tr>\n",
       "    <tr>\n",
       "      <th>2</th>\n",
       "      <td>NKCE6GJ5XVJDXNNZ</td>\n",
       "      <td>1.0</td>\n",
       "      <td>183</td>\n",
       "      <td>0</td>\n",
       "      <td>9</td>\n",
       "      <td>2</td>\n",
       "      <td>55</td>\n",
       "      <td>0</td>\n",
       "      <td>493.0</td>\n",
       "      <td>9.0</td>\n",
       "      <td>7175.0</td>\n",
       "      <td>15715</td>\n",
       "      <td>11</td>\n",
       "      <td>2015</td>\n",
       "      <td>5</td>\n",
       "      <td>46</td>\n",
       "    </tr>\n",
       "    <tr>\n",
       "      <th>3</th>\n",
       "      <td>NKCEB8BK3ZXDHDHM</td>\n",
       "      <td>8.0</td>\n",
       "      <td>358</td>\n",
       "      <td>1</td>\n",
       "      <td>7</td>\n",
       "      <td>3</td>\n",
       "      <td>86</td>\n",
       "      <td>0</td>\n",
       "      <td>303.0</td>\n",
       "      <td>16.0</td>\n",
       "      <td>5404.0</td>\n",
       "      <td>13078</td>\n",
       "      <td>11</td>\n",
       "      <td>2015</td>\n",
       "      <td>5</td>\n",
       "      <td>47</td>\n",
       "    </tr>\n",
       "    <tr>\n",
       "      <th>4</th>\n",
       "      <td>TOPEFDXSAHRNPF94</td>\n",
       "      <td>33.0</td>\n",
       "      <td>167</td>\n",
       "      <td>0</td>\n",
       "      <td>9</td>\n",
       "      <td>0</td>\n",
       "      <td>27</td>\n",
       "      <td>0</td>\n",
       "      <td>567.0</td>\n",
       "      <td>16.0</td>\n",
       "      <td>4069.0</td>\n",
       "      <td>6244</td>\n",
       "      <td>5</td>\n",
       "      <td>2015</td>\n",
       "      <td>2</td>\n",
       "      <td>19</td>\n",
       "    </tr>\n",
       "  </tbody>\n",
       "</table>\n",
       "</div>"
      ],
      "text/plain": [
       "         Product_id  Stall_no  Market_Category  Loyalty_customer  \\\n",
       "0  SCHE4YSTDVPVZVXW      39.0              205                 0   \n",
       "1  ACCEGCATKHNRXUHW      49.0                3                 1   \n",
       "2  NKCE6GJ5XVJDXNNZ       1.0              183                 0   \n",
       "3  NKCEB8BK3ZXDHDHM       8.0              358                 1   \n",
       "4  TOPEFDXSAHRNPF94      33.0              167                 0   \n",
       "\n",
       "   Product_Category  Grade  Demand  Discount_avail  charges_1  charges_2 (%)  \\\n",
       "0                10      0      90               0      380.0           16.0   \n",
       "1                10      0      87               0      393.0           16.0   \n",
       "2                 9      2      55               0      493.0            9.0   \n",
       "3                 7      3      86               0      303.0           16.0   \n",
       "4                 9      0      27               0      567.0           16.0   \n",
       "\n",
       "   Minimum_price  Maximum_price  month  year  weekday  No_of_Week  \n",
       "0         2576.0           3340      1  2016        2           2  \n",
       "1         1202.0           1955      8  2015        6          34  \n",
       "2         7175.0          15715     11  2015        5          46  \n",
       "3         5404.0          13078     11  2015        5          47  \n",
       "4         4069.0           6244      5  2015        2          19  "
      ]
     },
     "execution_count": 7,
     "metadata": {},
     "output_type": "execute_result"
    }
   ],
   "source": [
    "df_test.head() #head of the test set"
   ]
  },
  {
   "cell_type": "code",
   "execution_count": 8,
   "metadata": {},
   "outputs": [],
   "source": [
    "df=df[df['Selling_Price']>0] #taking only positive values"
   ]
  },
  {
   "cell_type": "code",
   "execution_count": 9,
   "metadata": {},
   "outputs": [],
   "source": [
    "#split the data into feature and label\n",
    "\n",
    "X = df.drop(['Selling_Price'],axis=1).values \n",
    "y = np.log1p(df['Selling_Price'].values) #taking log because the data is skewed"
   ]
  },
  {
   "cell_type": "code",
   "execution_count": 10,
   "metadata": {},
   "outputs": [],
   "source": [
    "#save product id for final submission\n",
    "\n",
    "df_test_Product_id = df_test['Product_id']\n",
    "x1_test = df_test.drop(['Product_id'],axis=1).values"
   ]
  },
  {
   "cell_type": "code",
   "execution_count": 11,
   "metadata": {},
   "outputs": [],
   "source": [
    "#extract feature only for visulization of important fields\n",
    "\n",
    "feature = df.drop(['Selling_Price'],axis=1).columns"
   ]
  },
  {
   "cell_type": "code",
   "execution_count": 12,
   "metadata": {},
   "outputs": [],
   "source": [
    "#split the data in train and test sets\n",
    "\n",
    "from sklearn.model_selection import train_test_split\n",
    "X_train, X_test, y_train, y_test = train_test_split(X, y, test_size=0.30,random_state=42)"
   ]
  },
  {
   "cell_type": "code",
   "execution_count": 13,
   "metadata": {},
   "outputs": [],
   "source": [
    "#scale the data\n",
    "\n",
    "from sklearn.preprocessing import MinMaxScaler\n",
    "scaler = MinMaxScaler()\n",
    "\n",
    "# from sklearn.preprocessing import RobustScaler\n",
    "# scaler = RobustScaler()\n",
    "\n",
    "X_train = scaler.fit_transform(X_train)\n",
    "X_test = scaler.transform(X_test)"
   ]
  },
  {
   "cell_type": "code",
   "execution_count": 14,
   "metadata": {},
   "outputs": [],
   "source": [
    "#scale test dataset\n",
    "\n",
    "x1_train = scaler.transform(X)\n",
    "x1_test = scaler.transform(x1_test)"
   ]
  },
  {
   "cell_type": "code",
   "execution_count": 15,
   "metadata": {},
   "outputs": [],
   "source": [
    "#import the matrices\n",
    "\n",
    "from sklearn.metrics import r2_score, mean_squared_log_error, mean_squared_error"
   ]
  },
  {
   "cell_type": "code",
   "execution_count": 16,
   "metadata": {},
   "outputs": [
    {
     "data": {
      "text/plain": [
       "XGBRegressor(base_score=None, booster=None, colsample_bylevel=None,\n",
       "             colsample_bynode=None, colsample_bytree=None, gamma=None,\n",
       "             gpu_id=None, importance_type='gain', interaction_constraints=None,\n",
       "             learning_rate=None, max_delta_step=None, max_depth=None,\n",
       "             min_child_weight=None, missing=nan, monotone_constraints=None,\n",
       "             n_estimators=100, n_jobs=None, num_parallel_tree=None,\n",
       "             random_state=None, reg_alpha=None, reg_lambda=None,\n",
       "             scale_pos_weight=None, subsample=None, tree_method=None,\n",
       "             validate_parameters=None, verbosity=None)"
      ]
     },
     "execution_count": 16,
     "metadata": {},
     "output_type": "execute_result"
    }
   ],
   "source": [
    "#import gridsearch and xgboost for model creation \n",
    "\n",
    "from sklearn.model_selection import GridSearchCV\n",
    "from xgboost import XGBRegressor\n",
    "XGBRegressor()"
   ]
  },
  {
   "cell_type": "code",
   "execution_count": 17,
   "metadata": {},
   "outputs": [],
   "source": [
    "#hyper parameter tuning of xgboost\n",
    "\n",
    "# xgb = XGBRegressor()\n",
    "# parameters_xgb = {\n",
    "#     'n_estimators': [360,400],\n",
    "#     'max_depth': [8,9],\n",
    "#     'learning_rate':[0.1],\n",
    "#     'reg_lambda':[0.7,1]\n",
    "#     }\n",
    "# cv_xgb = GridSearchCV(xgb, parameters_xgb, cv=5) \n",
    "# cv_xgb.fit(X_train, y_train)"
   ]
  },
  {
   "cell_type": "code",
   "execution_count": 18,
   "metadata": {},
   "outputs": [],
   "source": [
    "# cv_xgb.best_params_\n",
    "#{'learning_rate': 0.1, 'max_depth': 9, 'n_estimators': 220, 'reg_lambda': 0.1}\n",
    "# {'learning_rate': 0.1, 'max_depth': 8, 'n_estimators': 360, 'reg_lambda': 0.7}"
   ]
  },
  {
   "cell_type": "code",
   "execution_count": 19,
   "metadata": {},
   "outputs": [
    {
     "data": {
      "text/plain": [
       "XGBRegressor(base_score=0.5, booster='gbtree', colsample_bylevel=1,\n",
       "             colsample_bynode=1, colsample_bytree=1, gamma=0, gpu_id=-1,\n",
       "             importance_type='gain', interaction_constraints='',\n",
       "             learning_rate=0.1, max_delta_step=0, max_depth=8,\n",
       "             min_child_weight=1, missing=nan, monotone_constraints='()',\n",
       "             n_estimators=360, n_jobs=0, num_parallel_tree=1, random_state=0,\n",
       "             reg_alpha=0, reg_lambda=0.7, scale_pos_weight=1, subsample=1,\n",
       "             tree_method='exact', validate_parameters=1, verbosity=None)"
      ]
     },
     "execution_count": 19,
     "metadata": {},
     "output_type": "execute_result"
    }
   ],
   "source": [
    "#fitting the model\n",
    "\n",
    "model_xgb = XGBRegressor(n_estimators=360, max_depth=8,learning_rate=0.1,reg_lambda=0.7)\n",
    "model_xgb.fit(X_train,y_train)"
   ]
  },
  {
   "cell_type": "code",
   "execution_count": 20,
   "metadata": {},
   "outputs": [
    {
     "name": "stdout",
     "output_type": "stream",
     "text": [
      "root_mean_squared_error= 325.915745837061\n",
      "r2_score= 0.9880585217547456\n",
      "rmsle= 0.08283378068340048\n"
     ]
    }
   ],
   "source": [
    "#prediction accuracy\n",
    "\n",
    "pred_xgb = np.expm1(model_xgb.predict(X_test))\n",
    "\n",
    "y_true = np.expm1(y_test) #as log has been taken on target variable, exponential will revert it\n",
    "\n",
    "print(\"root_mean_squared_error=\",np.sqrt(mean_squared_error(y_true,pred_xgb)))\n",
    "print(\"r2_score=\",r2_score(y_true,pred_xgb))\n",
    "print(\"rmsle=\",np.sqrt(mean_squared_log_error(y_true,pred_xgb)))"
   ]
  },
  {
   "cell_type": "code",
   "execution_count": 21,
   "metadata": {},
   "outputs": [
    {
     "name": "stdout",
     "output_type": "stream",
     "text": [
      "root_mean_squared_error= 20.13607472575923\n",
      "r2_score= 0.9999530429499902\n",
      "rmsle= 0.004063019741184762\n"
     ]
    }
   ],
   "source": [
    "#accuracy in train set\n",
    "\n",
    "pred_xgb_train = np.expm1(model_xgb.predict(X_train))\n",
    "\n",
    "y_true_train = np.expm1(y_train)\n",
    "\n",
    "print(\"root_mean_squared_error=\",np.sqrt(mean_squared_error(y_true_train,pred_xgb_train)))\n",
    "print(\"r2_score=\",r2_score(y_true_train,pred_xgb_train))\n",
    "print(\"rmsle=\",np.sqrt(mean_squared_log_error(y_true_train,pred_xgb_train)))"
   ]
  },
  {
   "cell_type": "code",
   "execution_count": 22,
   "metadata": {},
   "outputs": [
    {
     "data": {
      "text/plain": [
       "99.9171662193166"
      ]
     },
     "execution_count": 22,
     "metadata": {},
     "output_type": "execute_result"
    }
   ],
   "source": [
    "max(0,100-np.sqrt(mean_squared_log_error(y_true,pred_xgb))) #error score as per competition in train set"
   ]
  },
  {
   "cell_type": "code",
   "execution_count": 23,
   "metadata": {},
   "outputs": [
    {
     "data": {
      "text/plain": [
       "99.99593698025882"
      ]
     },
     "execution_count": 23,
     "metadata": {},
     "output_type": "execute_result"
    }
   ],
   "source": [
    "max(0,100-np.sqrt(mean_squared_log_error(y_true_train,pred_xgb_train))) #error score as per competition in test set"
   ]
  },
  {
   "cell_type": "code",
   "execution_count": 24,
   "metadata": {},
   "outputs": [
    {
     "data": {
      "text/plain": [
       "<matplotlib.axes._subplots.AxesSubplot at 0x2117dd52f10>"
      ]
     },
     "execution_count": 24,
     "metadata": {},
     "output_type": "execute_result"
    },
    {
     "data": {
      "image/png": "[encoded data removed]",
      "text/plain": [
       "<Figure size 864x576 with 1 Axes>"
      ]
     },
     "metadata": {
      "needs_background": "light"
     },
     "output_type": "display_data"
    }
   ],
   "source": [
    "#feature importance\n",
    "\n",
    "imp_feat=pd.Series(model_xgb.feature_importances_,index=feature)\n",
    "plt.figure(figsize=(12,8))\n",
    "imp_feat.sort_values(ascending=False).plot(kind='bar')"
   ]
  },
  {
   "cell_type": "code",
   "execution_count": 25,
   "metadata": {},
   "outputs": [
    {
     "data": {
      "text/html": [
       "<div>\n",
       "<style scoped>\n",
       "    .dataframe tbody tr th:only-of-type {\n",
       "        vertical-align: middle;\n",
       "    }\n",
       "\n",
       "    .dataframe tbody tr th {\n",
       "        vertical-align: top;\n",
       "    }\n",
       "\n",
       "    .dataframe thead th {\n",
       "        text-align: right;\n",
       "    }\n",
       "</style>\n",
       "<table border=\"1\" class=\"dataframe\">\n",
       "  <thead>\n",
       "    <tr style=\"text-align: right;\">\n",
       "      <th></th>\n",
       "      <th>Stall_no</th>\n",
       "      <th>Market_Category</th>\n",
       "      <th>Loyalty_customer</th>\n",
       "      <th>Product_Category</th>\n",
       "      <th>Grade</th>\n",
       "      <th>Demand</th>\n",
       "      <th>Discount_avail</th>\n",
       "      <th>charges_1</th>\n",
       "      <th>charges_2 (%)</th>\n",
       "      <th>Minimum_price</th>\n",
       "      <th>Maximum_price</th>\n",
       "      <th>Selling_Price</th>\n",
       "      <th>month</th>\n",
       "      <th>year</th>\n",
       "      <th>weekday</th>\n",
       "      <th>No_of_Week</th>\n",
       "    </tr>\n",
       "  </thead>\n",
       "  <tbody>\n",
       "    <tr>\n",
       "      <th>0</th>\n",
       "      <td>37.0</td>\n",
       "      <td>2</td>\n",
       "      <td>1</td>\n",
       "      <td>10</td>\n",
       "      <td>1</td>\n",
       "      <td>68</td>\n",
       "      <td>0.0</td>\n",
       "      <td>376.0</td>\n",
       "      <td>11.0</td>\n",
       "      <td>2983.0</td>\n",
       "      <td>4713.0</td>\n",
       "      <td>4185.947700</td>\n",
       "      <td>8</td>\n",
       "      <td>2015</td>\n",
       "      <td>5</td>\n",
       "      <td>34</td>\n",
       "    </tr>\n",
       "    <tr>\n",
       "      <th>1</th>\n",
       "      <td>38.0</td>\n",
       "      <td>24</td>\n",
       "      <td>1</td>\n",
       "      <td>10</td>\n",
       "      <td>0</td>\n",
       "      <td>51</td>\n",
       "      <td>0.0</td>\n",
       "      <td>397.0</td>\n",
       "      <td>12.0</td>\n",
       "      <td>7495.0</td>\n",
       "      <td>10352.0</td>\n",
       "      <td>9271.490256</td>\n",
       "      <td>3</td>\n",
       "      <td>2016</td>\n",
       "      <td>6</td>\n",
       "      <td>12</td>\n",
       "    </tr>\n",
       "    <tr>\n",
       "      <th>2</th>\n",
       "      <td>9.0</td>\n",
       "      <td>447</td>\n",
       "      <td>1</td>\n",
       "      <td>7</td>\n",
       "      <td>0</td>\n",
       "      <td>10</td>\n",
       "      <td>0.0</td>\n",
       "      <td>250.0</td>\n",
       "      <td>9.0</td>\n",
       "      <td>5752.0</td>\n",
       "      <td>7309.0</td>\n",
       "      <td>6785.701362</td>\n",
       "      <td>8</td>\n",
       "      <td>2015</td>\n",
       "      <td>1</td>\n",
       "      <td>34</td>\n",
       "    </tr>\n",
       "    <tr>\n",
       "      <th>3</th>\n",
       "      <td>50.0</td>\n",
       "      <td>23</td>\n",
       "      <td>1</td>\n",
       "      <td>1</td>\n",
       "      <td>2</td>\n",
       "      <td>48</td>\n",
       "      <td>0.0</td>\n",
       "      <td>144.0</td>\n",
       "      <td>13.0</td>\n",
       "      <td>5090.0</td>\n",
       "      <td>20814.0</td>\n",
       "      <td>13028.917824</td>\n",
       "      <td>3</td>\n",
       "      <td>2016</td>\n",
       "      <td>0</td>\n",
       "      <td>13</td>\n",
       "    </tr>\n",
       "    <tr>\n",
       "      <th>4</th>\n",
       "      <td>7.0</td>\n",
       "      <td>63</td>\n",
       "      <td>1</td>\n",
       "      <td>8</td>\n",
       "      <td>1</td>\n",
       "      <td>35</td>\n",
       "      <td>1.0</td>\n",
       "      <td>211.0</td>\n",
       "      <td>4.0</td>\n",
       "      <td>2430.0</td>\n",
       "      <td>9261.0</td>\n",
       "      <td>906.553935</td>\n",
       "      <td>3</td>\n",
       "      <td>2016</td>\n",
       "      <td>1</td>\n",
       "      <td>13</td>\n",
       "    </tr>\n",
       "  </tbody>\n",
       "</table>\n",
       "</div>"
      ],
      "text/plain": [
       "   Stall_no  Market_Category  Loyalty_customer  Product_Category  Grade  \\\n",
       "0      37.0                2                 1                10      1   \n",
       "1      38.0               24                 1                10      0   \n",
       "2       9.0              447                 1                 7      0   \n",
       "3      50.0               23                 1                 1      2   \n",
       "4       7.0               63                 1                 8      1   \n",
       "\n",
       "   Demand  Discount_avail  charges_1  charges_2 (%)  Minimum_price  \\\n",
       "0      68             0.0      376.0           11.0         2983.0   \n",
       "1      51             0.0      397.0           12.0         7495.0   \n",
       "2      10             0.0      250.0            9.0         5752.0   \n",
       "3      48             0.0      144.0           13.0         5090.0   \n",
       "4      35             1.0      211.0            4.0         2430.0   \n",
       "\n",
       "   Maximum_price  Selling_Price  month  year  weekday  No_of_Week  \n",
       "0         4713.0    4185.947700      8  2015        5          34  \n",
       "1        10352.0    9271.490256      3  2016        6          12  \n",
       "2         7309.0    6785.701362      8  2015        1          34  \n",
       "3        20814.0   13028.917824      3  2016        0          13  \n",
       "4         9261.0     906.553935      3  2016        1          13  "
      ]
     },
     "execution_count": 25,
     "metadata": {},
     "output_type": "execute_result"
    }
   ],
   "source": [
    "df.head()"
   ]
  },
  {
   "cell_type": "code",
   "execution_count": 26,
   "metadata": {},
   "outputs": [
    {
     "data": {
      "text/plain": [
       "[<matplotlib.lines.Line2D at 0x211007b8040>]"
      ]
     },
     "execution_count": 26,
     "metadata": {},
     "output_type": "execute_result"
    },
    {
     "data": {
      "image/png": "[encoded data removed]",
      "text/plain": [
       "<Figure size 864x576 with 1 Axes>"
      ]
     },
     "metadata": {
      "needs_background": "light"
     },
     "output_type": "display_data"
    }
   ],
   "source": [
    "#plotting the prediction with actual value\n",
    "\n",
    "plt.figure(figsize=(12,8))\n",
    "plt.scatter(y_true,pred_xgb)\n",
    "plt.plot(y_true,y_true,'r')"
   ]
  },
  {
   "cell_type": "markdown",
   "metadata": {},
   "source": [
    "**We are going to add this prediction to the train and test dataset as a column and build a second predictive model on this new dataset**"
   ]
  },
  {
   "cell_type": "code",
   "execution_count": 27,
   "metadata": {},
   "outputs": [
    {
     "data": {
      "text/html": [
       "<div>\n",
       "<style scoped>\n",
       "    .dataframe tbody tr th:only-of-type {\n",
       "        vertical-align: middle;\n",
       "    }\n",
       "\n",
       "    .dataframe tbody tr th {\n",
       "        vertical-align: top;\n",
       "    }\n",
       "\n",
       "    .dataframe thead th {\n",
       "        text-align: right;\n",
       "    }\n",
       "</style>\n",
       "<table border=\"1\" class=\"dataframe\">\n",
       "  <thead>\n",
       "    <tr style=\"text-align: right;\">\n",
       "      <th></th>\n",
       "      <th>Stall_no</th>\n",
       "      <th>Market_Category</th>\n",
       "      <th>Loyalty_customer</th>\n",
       "      <th>Product_Category</th>\n",
       "      <th>Grade</th>\n",
       "      <th>Demand</th>\n",
       "      <th>Discount_avail</th>\n",
       "      <th>charges_1</th>\n",
       "      <th>charges_2 (%)</th>\n",
       "      <th>Minimum_price</th>\n",
       "      <th>Maximum_price</th>\n",
       "      <th>Selling_Price</th>\n",
       "      <th>month</th>\n",
       "      <th>year</th>\n",
       "      <th>weekday</th>\n",
       "      <th>No_of_Week</th>\n",
       "      <th>pred_price</th>\n",
       "    </tr>\n",
       "  </thead>\n",
       "  <tbody>\n",
       "    <tr>\n",
       "      <th>3855</th>\n",
       "      <td>33.0</td>\n",
       "      <td>14</td>\n",
       "      <td>0</td>\n",
       "      <td>4</td>\n",
       "      <td>0</td>\n",
       "      <td>78</td>\n",
       "      <td>0.0</td>\n",
       "      <td>261.0</td>\n",
       "      <td>14.0</td>\n",
       "      <td>3567.0</td>\n",
       "      <td>4552.0</td>\n",
       "      <td>4282.918200</td>\n",
       "      <td>9</td>\n",
       "      <td>2015</td>\n",
       "      <td>4</td>\n",
       "      <td>39</td>\n",
       "      <td>4313.643555</td>\n",
       "    </tr>\n",
       "    <tr>\n",
       "      <th>5865</th>\n",
       "      <td>9.0</td>\n",
       "      <td>57</td>\n",
       "      <td>0</td>\n",
       "      <td>4</td>\n",
       "      <td>0</td>\n",
       "      <td>48</td>\n",
       "      <td>0.0</td>\n",
       "      <td>249.0</td>\n",
       "      <td>17.0</td>\n",
       "      <td>2988.0</td>\n",
       "      <td>6569.0</td>\n",
       "      <td>5003.392032</td>\n",
       "      <td>2</td>\n",
       "      <td>2016</td>\n",
       "      <td>5</td>\n",
       "      <td>8</td>\n",
       "      <td>4857.473633</td>\n",
       "    </tr>\n",
       "    <tr>\n",
       "      <th>4046</th>\n",
       "      <td>45.0</td>\n",
       "      <td>65</td>\n",
       "      <td>1</td>\n",
       "      <td>4</td>\n",
       "      <td>2</td>\n",
       "      <td>6</td>\n",
       "      <td>0.0</td>\n",
       "      <td>227.0</td>\n",
       "      <td>12.0</td>\n",
       "      <td>2312.0</td>\n",
       "      <td>4166.0</td>\n",
       "      <td>3469.543011</td>\n",
       "      <td>9</td>\n",
       "      <td>2015</td>\n",
       "      <td>4</td>\n",
       "      <td>39</td>\n",
       "      <td>3445.764404</td>\n",
       "    </tr>\n",
       "    <tr>\n",
       "      <th>2981</th>\n",
       "      <td>35.0</td>\n",
       "      <td>469</td>\n",
       "      <td>1</td>\n",
       "      <td>1</td>\n",
       "      <td>0</td>\n",
       "      <td>19</td>\n",
       "      <td>0.0</td>\n",
       "      <td>101.0</td>\n",
       "      <td>14.0</td>\n",
       "      <td>3560.0</td>\n",
       "      <td>5173.0</td>\n",
       "      <td>4473.162639</td>\n",
       "      <td>9</td>\n",
       "      <td>2015</td>\n",
       "      <td>2</td>\n",
       "      <td>39</td>\n",
       "      <td>4438.200684</td>\n",
       "    </tr>\n",
       "    <tr>\n",
       "      <th>5363</th>\n",
       "      <td>42.0</td>\n",
       "      <td>56</td>\n",
       "      <td>0</td>\n",
       "      <td>5</td>\n",
       "      <td>0</td>\n",
       "      <td>14</td>\n",
       "      <td>0.0</td>\n",
       "      <td>NaN</td>\n",
       "      <td>11.0</td>\n",
       "      <td>451.0</td>\n",
       "      <td>834.0</td>\n",
       "      <td>914.118579</td>\n",
       "      <td>5</td>\n",
       "      <td>2015</td>\n",
       "      <td>3</td>\n",
       "      <td>19</td>\n",
       "      <td>881.911133</td>\n",
       "    </tr>\n",
       "    <tr>\n",
       "      <th>143</th>\n",
       "      <td>3.0</td>\n",
       "      <td>113</td>\n",
       "      <td>1</td>\n",
       "      <td>9</td>\n",
       "      <td>0</td>\n",
       "      <td>46</td>\n",
       "      <td>0.0</td>\n",
       "      <td>465.0</td>\n",
       "      <td>7.0</td>\n",
       "      <td>1491.0</td>\n",
       "      <td>3778.0</td>\n",
       "      <td>3081.491424</td>\n",
       "      <td>9</td>\n",
       "      <td>2015</td>\n",
       "      <td>1</td>\n",
       "      <td>39</td>\n",
       "      <td>2849.360352</td>\n",
       "    </tr>\n",
       "    <tr>\n",
       "      <th>112</th>\n",
       "      <td>23.0</td>\n",
       "      <td>24</td>\n",
       "      <td>1</td>\n",
       "      <td>7</td>\n",
       "      <td>0</td>\n",
       "      <td>76</td>\n",
       "      <td>0.0</td>\n",
       "      <td>314.0</td>\n",
       "      <td>11.0</td>\n",
       "      <td>7017.0</td>\n",
       "      <td>10671.0</td>\n",
       "      <td>9076.052700</td>\n",
       "      <td>3</td>\n",
       "      <td>2016</td>\n",
       "      <td>0</td>\n",
       "      <td>13</td>\n",
       "      <td>9051.316406</td>\n",
       "    </tr>\n",
       "    <tr>\n",
       "      <th>4272</th>\n",
       "      <td>15.0</td>\n",
       "      <td>452</td>\n",
       "      <td>0</td>\n",
       "      <td>7</td>\n",
       "      <td>0</td>\n",
       "      <td>52</td>\n",
       "      <td>0.0</td>\n",
       "      <td>265.0</td>\n",
       "      <td>16.0</td>\n",
       "      <td>3254.0</td>\n",
       "      <td>4730.0</td>\n",
       "      <td>4236.104304</td>\n",
       "      <td>9</td>\n",
       "      <td>2015</td>\n",
       "      <td>5</td>\n",
       "      <td>39</td>\n",
       "      <td>4226.266602</td>\n",
       "    </tr>\n",
       "    <tr>\n",
       "      <th>2937</th>\n",
       "      <td>16.0</td>\n",
       "      <td>93</td>\n",
       "      <td>0</td>\n",
       "      <td>2</td>\n",
       "      <td>2</td>\n",
       "      <td>16</td>\n",
       "      <td>0.0</td>\n",
       "      <td>130.0</td>\n",
       "      <td>8.0</td>\n",
       "      <td>2723.0</td>\n",
       "      <td>5311.0</td>\n",
       "      <td>4149.794979</td>\n",
       "      <td>2</td>\n",
       "      <td>2016</td>\n",
       "      <td>6</td>\n",
       "      <td>7</td>\n",
       "      <td>4146.386230</td>\n",
       "    </tr>\n",
       "    <tr>\n",
       "      <th>1943</th>\n",
       "      <td>34.0</td>\n",
       "      <td>55</td>\n",
       "      <td>0</td>\n",
       "      <td>10</td>\n",
       "      <td>0</td>\n",
       "      <td>84</td>\n",
       "      <td>0.0</td>\n",
       "      <td>377.0</td>\n",
       "      <td>15.0</td>\n",
       "      <td>828.0</td>\n",
       "      <td>3479.0</td>\n",
       "      <td>2497.244288</td>\n",
       "      <td>9</td>\n",
       "      <td>2015</td>\n",
       "      <td>1</td>\n",
       "      <td>39</td>\n",
       "      <td>2502.838135</td>\n",
       "    </tr>\n",
       "  </tbody>\n",
       "</table>\n",
       "</div>"
      ],
      "text/plain": [
       "      Stall_no  Market_Category  Loyalty_customer  Product_Category  Grade  \\\n",
       "3855      33.0               14                 0                 4      0   \n",
       "5865       9.0               57                 0                 4      0   \n",
       "4046      45.0               65                 1                 4      2   \n",
       "2981      35.0              469                 1                 1      0   \n",
       "5363      42.0               56                 0                 5      0   \n",
       "143        3.0              113                 1                 9      0   \n",
       "112       23.0               24                 1                 7      0   \n",
       "4272      15.0              452                 0                 7      0   \n",
       "2937      16.0               93                 0                 2      2   \n",
       "1943      34.0               55                 0                10      0   \n",
       "\n",
       "      Demand  Discount_avail  charges_1  charges_2 (%)  Minimum_price  \\\n",
       "3855      78             0.0      261.0           14.0         3567.0   \n",
       "5865      48             0.0      249.0           17.0         2988.0   \n",
       "4046       6             0.0      227.0           12.0         2312.0   \n",
       "2981      19             0.0      101.0           14.0         3560.0   \n",
       "5363      14             0.0        NaN           11.0          451.0   \n",
       "143       46             0.0      465.0            7.0         1491.0   \n",
       "112       76             0.0      314.0           11.0         7017.0   \n",
       "4272      52             0.0      265.0           16.0         3254.0   \n",
       "2937      16             0.0      130.0            8.0         2723.0   \n",
       "1943      84             0.0      377.0           15.0          828.0   \n",
       "\n",
       "      Maximum_price  Selling_Price  month  year  weekday  No_of_Week  \\\n",
       "3855         4552.0    4282.918200      9  2015        4          39   \n",
       "5865         6569.0    5003.392032      2  2016        5           8   \n",
       "4046         4166.0    3469.543011      9  2015        4          39   \n",
       "2981         5173.0    4473.162639      9  2015        2          39   \n",
       "5363          834.0     914.118579      5  2015        3          19   \n",
       "143          3778.0    3081.491424      9  2015        1          39   \n",
       "112         10671.0    9076.052700      3  2016        0          13   \n",
       "4272         4730.0    4236.104304      9  2015        5          39   \n",
       "2937         5311.0    4149.794979      2  2016        6           7   \n",
       "1943         3479.0    2497.244288      9  2015        1          39   \n",
       "\n",
       "       pred_price  \n",
       "3855  4313.643555  \n",
       "5865  4857.473633  \n",
       "4046  3445.764404  \n",
       "2981  4438.200684  \n",
       "5363   881.911133  \n",
       "143   2849.360352  \n",
       "112   9051.316406  \n",
       "4272  4226.266602  \n",
       "2937  4146.386230  \n",
       "1943  2502.838135  "
      ]
     },
     "execution_count": 27,
     "metadata": {},
     "output_type": "execute_result"
    }
   ],
   "source": [
    "df['pred_price'] = np.expm1(model_xgb.predict(x1_train)) #adding in train set\n",
    "df.sample(10)"
   ]
  },
  {
   "cell_type": "code",
   "execution_count": 28,
   "metadata": {},
   "outputs": [
    {
     "data": {
      "text/html": [
       "<div>\n",
       "<style scoped>\n",
       "    .dataframe tbody tr th:only-of-type {\n",
       "        vertical-align: middle;\n",
       "    }\n",
       "\n",
       "    .dataframe tbody tr th {\n",
       "        vertical-align: top;\n",
       "    }\n",
       "\n",
       "    .dataframe thead th {\n",
       "        text-align: right;\n",
       "    }\n",
       "</style>\n",
       "<table border=\"1\" class=\"dataframe\">\n",
       "  <thead>\n",
       "    <tr style=\"text-align: right;\">\n",
       "      <th></th>\n",
       "      <th>Product_id</th>\n",
       "      <th>Stall_no</th>\n",
       "      <th>Market_Category</th>\n",
       "      <th>Loyalty_customer</th>\n",
       "      <th>Product_Category</th>\n",
       "      <th>Grade</th>\n",
       "      <th>Demand</th>\n",
       "      <th>Discount_avail</th>\n",
       "      <th>charges_1</th>\n",
       "      <th>charges_2 (%)</th>\n",
       "      <th>Minimum_price</th>\n",
       "      <th>Maximum_price</th>\n",
       "      <th>month</th>\n",
       "      <th>year</th>\n",
       "      <th>weekday</th>\n",
       "      <th>No_of_Week</th>\n",
       "      <th>pred_price</th>\n",
       "    </tr>\n",
       "  </thead>\n",
       "  <tbody>\n",
       "    <tr>\n",
       "      <th>3078</th>\n",
       "      <td>NKCEAP3S6G8ZEGB6</td>\n",
       "      <td>5.0</td>\n",
       "      <td>108</td>\n",
       "      <td>0</td>\n",
       "      <td>3</td>\n",
       "      <td>0</td>\n",
       "      <td>82</td>\n",
       "      <td>0</td>\n",
       "      <td>249.0</td>\n",
       "      <td>8.0</td>\n",
       "      <td>1692.0</td>\n",
       "      <td>3098</td>\n",
       "      <td>12</td>\n",
       "      <td>2015</td>\n",
       "      <td>6</td>\n",
       "      <td>49</td>\n",
       "      <td>2624.979980</td>\n",
       "    </tr>\n",
       "    <tr>\n",
       "      <th>2813</th>\n",
       "      <td>RTREFDXTZ4GGGAEX</td>\n",
       "      <td>14.0</td>\n",
       "      <td>448</td>\n",
       "      <td>0</td>\n",
       "      <td>8</td>\n",
       "      <td>0</td>\n",
       "      <td>37</td>\n",
       "      <td>0</td>\n",
       "      <td>280.0</td>\n",
       "      <td>4.0</td>\n",
       "      <td>2512.0</td>\n",
       "      <td>3262</td>\n",
       "      <td>2</td>\n",
       "      <td>2016</td>\n",
       "      <td>0</td>\n",
       "      <td>6</td>\n",
       "      <td>3174.762451</td>\n",
       "    </tr>\n",
       "    <tr>\n",
       "      <th>1691</th>\n",
       "      <td>CAGE9A68NZMEVPPE</td>\n",
       "      <td>1.0</td>\n",
       "      <td>220</td>\n",
       "      <td>0</td>\n",
       "      <td>7</td>\n",
       "      <td>0</td>\n",
       "      <td>31</td>\n",
       "      <td>0</td>\n",
       "      <td>302.0</td>\n",
       "      <td>11.0</td>\n",
       "      <td>8489.0</td>\n",
       "      <td>11535</td>\n",
       "      <td>11</td>\n",
       "      <td>2015</td>\n",
       "      <td>3</td>\n",
       "      <td>47</td>\n",
       "      <td>10364.989258</td>\n",
       "    </tr>\n",
       "    <tr>\n",
       "      <th>3356</th>\n",
       "      <td>DIAEJ6Z8BEDTGGYY</td>\n",
       "      <td>33.0</td>\n",
       "      <td>211</td>\n",
       "      <td>1</td>\n",
       "      <td>2</td>\n",
       "      <td>0</td>\n",
       "      <td>38</td>\n",
       "      <td>0</td>\n",
       "      <td>129.0</td>\n",
       "      <td>7.0</td>\n",
       "      <td>3571.0</td>\n",
       "      <td>4629</td>\n",
       "      <td>10</td>\n",
       "      <td>2014</td>\n",
       "      <td>6</td>\n",
       "      <td>43</td>\n",
       "      <td>4279.201660</td>\n",
       "    </tr>\n",
       "    <tr>\n",
       "      <th>325</th>\n",
       "      <td>PBXE6EF4PSJX9WXH</td>\n",
       "      <td>42.0</td>\n",
       "      <td>57</td>\n",
       "      <td>1</td>\n",
       "      <td>7</td>\n",
       "      <td>0</td>\n",
       "      <td>79</td>\n",
       "      <td>0</td>\n",
       "      <td>279.0</td>\n",
       "      <td>6.0</td>\n",
       "      <td>1296.0</td>\n",
       "      <td>6317</td>\n",
       "      <td>1</td>\n",
       "      <td>2016</td>\n",
       "      <td>1</td>\n",
       "      <td>1</td>\n",
       "      <td>4047.384521</td>\n",
       "    </tr>\n",
       "    <tr>\n",
       "      <th>181</th>\n",
       "      <td>FABE92NVHZHSFHGT</td>\n",
       "      <td>17.0</td>\n",
       "      <td>176</td>\n",
       "      <td>1</td>\n",
       "      <td>7</td>\n",
       "      <td>0</td>\n",
       "      <td>36</td>\n",
       "      <td>0</td>\n",
       "      <td>298.0</td>\n",
       "      <td>17.0</td>\n",
       "      <td>2533.0</td>\n",
       "      <td>3632</td>\n",
       "      <td>9</td>\n",
       "      <td>2015</td>\n",
       "      <td>5</td>\n",
       "      <td>39</td>\n",
       "      <td>3351.731934</td>\n",
       "    </tr>\n",
       "    <tr>\n",
       "      <th>3133</th>\n",
       "      <td>BRAE4S2FYF4RN49J</td>\n",
       "      <td>13.0</td>\n",
       "      <td>30</td>\n",
       "      <td>0</td>\n",
       "      <td>8</td>\n",
       "      <td>0</td>\n",
       "      <td>3</td>\n",
       "      <td>0</td>\n",
       "      <td>216.0</td>\n",
       "      <td>8.0</td>\n",
       "      <td>1161.0</td>\n",
       "      <td>2167</td>\n",
       "      <td>8</td>\n",
       "      <td>2015</td>\n",
       "      <td>3</td>\n",
       "      <td>34</td>\n",
       "      <td>1827.959106</td>\n",
       "    </tr>\n",
       "    <tr>\n",
       "      <th>1208</th>\n",
       "      <td>NKCE5HYVQV5ZKAMB</td>\n",
       "      <td>32.0</td>\n",
       "      <td>58</td>\n",
       "      <td>0</td>\n",
       "      <td>4</td>\n",
       "      <td>1</td>\n",
       "      <td>90</td>\n",
       "      <td>0</td>\n",
       "      <td>214.0</td>\n",
       "      <td>17.0</td>\n",
       "      <td>4140.0</td>\n",
       "      <td>5673</td>\n",
       "      <td>1</td>\n",
       "      <td>2016</td>\n",
       "      <td>2</td>\n",
       "      <td>1</td>\n",
       "      <td>4991.993652</td>\n",
       "    </tr>\n",
       "    <tr>\n",
       "      <th>1970</th>\n",
       "      <td>JWSE9CZDPATTCRX7</td>\n",
       "      <td>2.0</td>\n",
       "      <td>423</td>\n",
       "      <td>1</td>\n",
       "      <td>9</td>\n",
       "      <td>0</td>\n",
       "      <td>50</td>\n",
       "      <td>0</td>\n",
       "      <td>472.0</td>\n",
       "      <td>15.0</td>\n",
       "      <td>5485.0</td>\n",
       "      <td>9314</td>\n",
       "      <td>8</td>\n",
       "      <td>2015</td>\n",
       "      <td>5</td>\n",
       "      <td>33</td>\n",
       "      <td>8038.541992</td>\n",
       "    </tr>\n",
       "    <tr>\n",
       "      <th>1580</th>\n",
       "      <td>ACCE8XZMKHTPSVFW</td>\n",
       "      <td>2.0</td>\n",
       "      <td>452</td>\n",
       "      <td>0</td>\n",
       "      <td>10</td>\n",
       "      <td>0</td>\n",
       "      <td>20</td>\n",
       "      <td>0</td>\n",
       "      <td>399.0</td>\n",
       "      <td>15.0</td>\n",
       "      <td>5239.0</td>\n",
       "      <td>7453</td>\n",
       "      <td>8</td>\n",
       "      <td>2015</td>\n",
       "      <td>6</td>\n",
       "      <td>33</td>\n",
       "      <td>6208.023438</td>\n",
       "    </tr>\n",
       "  </tbody>\n",
       "</table>\n",
       "</div>"
      ],
      "text/plain": [
       "            Product_id  Stall_no  Market_Category  Loyalty_customer  \\\n",
       "3078  NKCEAP3S6G8ZEGB6       5.0              108                 0   \n",
       "2813  RTREFDXTZ4GGGAEX      14.0              448                 0   \n",
       "1691  CAGE9A68NZMEVPPE       1.0              220                 0   \n",
       "3356  DIAEJ6Z8BEDTGGYY      33.0              211                 1   \n",
       "325   PBXE6EF4PSJX9WXH      42.0               57                 1   \n",
       "181   FABE92NVHZHSFHGT      17.0              176                 1   \n",
       "3133  BRAE4S2FYF4RN49J      13.0               30                 0   \n",
       "1208  NKCE5HYVQV5ZKAMB      32.0               58                 0   \n",
       "1970  JWSE9CZDPATTCRX7       2.0              423                 1   \n",
       "1580  ACCE8XZMKHTPSVFW       2.0              452                 0   \n",
       "\n",
       "      Product_Category  Grade  Demand  Discount_avail  charges_1  \\\n",
       "3078                 3      0      82               0      249.0   \n",
       "2813                 8      0      37               0      280.0   \n",
       "1691                 7      0      31               0      302.0   \n",
       "3356                 2      0      38               0      129.0   \n",
       "325                  7      0      79               0      279.0   \n",
       "181                  7      0      36               0      298.0   \n",
       "3133                 8      0       3               0      216.0   \n",
       "1208                 4      1      90               0      214.0   \n",
       "1970                 9      0      50               0      472.0   \n",
       "1580                10      0      20               0      399.0   \n",
       "\n",
       "      charges_2 (%)  Minimum_price  Maximum_price  month  year  weekday  \\\n",
       "3078            8.0         1692.0           3098     12  2015        6   \n",
       "2813            4.0         2512.0           3262      2  2016        0   \n",
       "1691           11.0         8489.0          11535     11  2015        3   \n",
       "3356            7.0         3571.0           4629     10  2014        6   \n",
       "325             6.0         1296.0           6317      1  2016        1   \n",
       "181            17.0         2533.0           3632      9  2015        5   \n",
       "3133            8.0         1161.0           2167      8  2015        3   \n",
       "1208           17.0         4140.0           5673      1  2016        2   \n",
       "1970           15.0         5485.0           9314      8  2015        5   \n",
       "1580           15.0         5239.0           7453      8  2015        6   \n",
       "\n",
       "      No_of_Week    pred_price  \n",
       "3078          49   2624.979980  \n",
       "2813           6   3174.762451  \n",
       "1691          47  10364.989258  \n",
       "3356          43   4279.201660  \n",
       "325            1   4047.384521  \n",
       "181           39   3351.731934  \n",
       "3133          34   1827.959106  \n",
       "1208           1   4991.993652  \n",
       "1970          33   8038.541992  \n",
       "1580          33   6208.023438  "
      ]
     },
     "execution_count": 28,
     "metadata": {},
     "output_type": "execute_result"
    }
   ],
   "source": [
    "df_test['pred_price'] = np.expm1(model_xgb.predict(x1_test)) #adding in test set\n",
    "df_test.sample(10)"
   ]
  },
  {
   "cell_type": "code",
   "execution_count": 29,
   "metadata": {},
   "outputs": [],
   "source": [
    "#split into feature and label\n",
    "\n",
    "X = df.drop(['Selling_Price'],axis=1).values \n",
    "y = np.log1p(df['Selling_Price'].values)"
   ]
  },
  {
   "cell_type": "code",
   "execution_count": 30,
   "metadata": {},
   "outputs": [],
   "source": [
    "x1_test = df_test.drop(['Product_id'],axis=1).values #test set"
   ]
  },
  {
   "cell_type": "code",
   "execution_count": 31,
   "metadata": {},
   "outputs": [],
   "source": [
    "#new\n",
    "# x1_test = df_test.values"
   ]
  },
  {
   "cell_type": "code",
   "execution_count": 32,
   "metadata": {},
   "outputs": [],
   "source": [
    "feature = df.drop(['Selling_Price'],axis=1).columns #save features in a variable "
   ]
  },
  {
   "cell_type": "code",
   "execution_count": 33,
   "metadata": {},
   "outputs": [],
   "source": [
    "#split the data in train and test with very low test, so that model train vary well\n",
    "\n",
    "from sklearn.model_selection import train_test_split\n",
    "X_train, X_test, y_train, y_test = train_test_split(X, y, test_size=0.01,random_state=42) "
   ]
  },
  {
   "cell_type": "code",
   "execution_count": 34,
   "metadata": {},
   "outputs": [],
   "source": [
    "#scale the data\n",
    "\n",
    "from sklearn.preprocessing import MinMaxScaler\n",
    "scaler = MinMaxScaler()\n",
    "\n",
    "# from sklearn.preprocessing import RobustScaler\n",
    "# scaler = RobustScaler()\n",
    "\n",
    "X_train = scaler.fit_transform(X_train)\n",
    "X_test = scaler.transform(X_test)"
   ]
  },
  {
   "cell_type": "code",
   "execution_count": 35,
   "metadata": {},
   "outputs": [],
   "source": [
    "x1_test = scaler.transform(x1_test) #scale the test"
   ]
  },
  {
   "cell_type": "code",
   "execution_count": 36,
   "metadata": {},
   "outputs": [],
   "source": [
    "# xgb = XGBRegressor()\n",
    "# parameters_xgb = {\n",
    "#     'n_estimators': [220,250,300],\n",
    "#     'max_depth': [8,9,10],\n",
    "#     'learning_rate':[0.1,0.12],\n",
    "#     'reg_lambda':[0.1]\n",
    "#     }\n",
    "# cv_xgb = GridSearchCV(xgb, parameters_xgb, cv=5) \n",
    "# cv_xgb.fit(X_train, y_train)"
   ]
  },
  {
   "cell_type": "code",
   "execution_count": 37,
   "metadata": {},
   "outputs": [],
   "source": [
    "# cv_xgb.best_params_"
   ]
  },
  {
   "cell_type": "code",
   "execution_count": 38,
   "metadata": {},
   "outputs": [
    {
     "data": {
      "text/plain": [
       "XGBRegressor(base_score=0.5, booster='gbtree', colsample_bylevel=1,\n",
       "             colsample_bynode=1, colsample_bytree=1, gamma=0, gpu_id=-1,\n",
       "             importance_type='gain', interaction_constraints='',\n",
       "             learning_rate=0.1, max_delta_step=0, max_depth=8,\n",
       "             min_child_weight=1, missing=nan, monotone_constraints='()',\n",
       "             n_estimators=400, n_jobs=0, num_parallel_tree=1, random_state=0,\n",
       "             reg_alpha=0, reg_lambda=0.8, scale_pos_weight=1, subsample=1,\n",
       "             tree_method='exact', validate_parameters=1, verbosity=None)"
      ]
     },
     "execution_count": 38,
     "metadata": {},
     "output_type": "execute_result"
    }
   ],
   "source": [
    "#fit the regressor with paramete values found from GridSearchCV\n",
    "\n",
    "model_xgb = XGBRegressor(n_estimators=400, max_depth=8,learning_rate=0.1,reg_lambda=0.8)\n",
    "model_xgb.fit(X_train,y_train)"
   ]
  },
  {
   "cell_type": "code",
   "execution_count": 39,
   "metadata": {},
   "outputs": [
    {
     "name": "stdout",
     "output_type": "stream",
     "text": [
      "root_mean_squared_error= 288.89192647025857\n",
      "r2_score= 0.9942454980350749\n",
      "rmsle= 0.04394293650921652\n"
     ]
    }
   ],
   "source": [
    "#test accuracy check\n",
    "\n",
    "pred_xgb = np.expm1(model_xgb.predict(X_test))\n",
    "\n",
    "y_true = np.expm1(y_test)\n",
    "\n",
    "print(\"root_mean_squared_error=\",np.sqrt(mean_squared_error(y_true,pred_xgb)))\n",
    "print(\"r2_score=\",r2_score(y_true,pred_xgb))\n",
    "print(\"rmsle=\",np.sqrt(mean_squared_log_error(y_true,pred_xgb)))"
   ]
  },
  {
   "cell_type": "code",
   "execution_count": 40,
   "metadata": {},
   "outputs": [
    {
     "name": "stdout",
     "output_type": "stream",
     "text": [
      "root_mean_squared_error= 15.19871833708491\n",
      "r2_score= 0.9999733039825921\n",
      "rmsle= 0.0031785127587756618\n"
     ]
    }
   ],
   "source": [
    "#train accuracy check\n",
    "\n",
    "pred_xgb_train = np.expm1(model_xgb.predict(X_train))\n",
    "\n",
    "y_true_train = np.expm1(y_train)\n",
    "\n",
    "print(\"root_mean_squared_error=\",np.sqrt(mean_squared_error(y_true_train,pred_xgb_train)))\n",
    "print(\"r2_score=\",r2_score(y_true_train,pred_xgb_train))\n",
    "print(\"rmsle=\",np.sqrt(mean_squared_log_error(y_true_train,pred_xgb_train)))"
   ]
  },
  {
   "cell_type": "code",
   "execution_count": 41,
   "metadata": {},
   "outputs": [
    {
     "name": "stdout",
     "output_type": "stream",
     "text": [
      "99.95605706349079\n",
      "99.99682148724122\n"
     ]
    }
   ],
   "source": [
    "#error as per formul of competition\n",
    "\n",
    "print(max(0,100-np.sqrt(mean_squared_log_error(y_true,pred_xgb))))\n",
    "print(max(0,100-np.sqrt(mean_squared_log_error(y_true_train,pred_xgb_train))))"
   ]
  },
  {
   "cell_type": "code",
   "execution_count": 42,
   "metadata": {},
   "outputs": [
    {
     "data": {
      "text/plain": [
       "<matplotlib.axes._subplots.AxesSubplot at 0x211007d8880>"
      ]
     },
     "execution_count": 42,
     "metadata": {},
     "output_type": "execute_result"
    },
    {
     "data": {
      "image/png": "[encoded data removed]",
      "text/plain": [
       "<Figure size 864x576 with 1 Axes>"
      ]
     },
     "metadata": {
      "needs_background": "light"
     },
     "output_type": "display_data"
    }
   ],
   "source": [
    "#feature importance\n",
    "\n",
    "imp_feat=pd.Series(model_xgb.feature_importances_,index=feature)\n",
    "plt.figure(figsize=(12,8))\n",
    "imp_feat.sort_values(ascending=False).plot(kind='bar')"
   ]
  },
  {
   "cell_type": "code",
   "execution_count": 43,
   "metadata": {},
   "outputs": [
    {
     "data": {
      "text/plain": [
       "[<matplotlib.lines.Line2D at 0x21101bbd0a0>]"
      ]
     },
     "execution_count": 43,
     "metadata": {},
     "output_type": "execute_result"
    },
    {
     "data": {
      "image/png": "[encoded data removed]",
      "text/plain": [
       "<Figure size 864x576 with 1 Axes>"
      ]
     },
     "metadata": {
      "needs_background": "light"
     },
     "output_type": "display_data"
    }
   ],
   "source": [
    "#how fit the prediction\n",
    "\n",
    "plt.figure(figsize=(12,8))\n",
    "plt.scatter(y_true,pred_xgb)\n",
    "plt.plot(y_true,y_true,'r')"
   ]
  },
  {
   "cell_type": "code",
   "execution_count": 44,
   "metadata": {},
   "outputs": [],
   "source": [
    "#convert the prediction into submission file\n",
    "\n",
    "# pred_final = np.expm1(model_xgb.predict(x1_test))\n",
    "# d_pred={'Product_id':df_test_Product_id,'Selling_Price':pred_final}\n",
    "# pred_csv = pd.DataFrame(d_pred)\n",
    "\n",
    "# pred_csv.to_csv('prediction7.csv', index = False)"
   ]
  }
 ],
 "metadata": {
  "kernelspec": {
   "display_name": "Python 3",
   "language": "python",
   "name": "python3"
  },
  "language_info": {
   "codemirror_mode": {
    "name": "ipython",
    "version": 3
   },
   "file_extension": ".py",
   "mimetype": "text/x-python",
   "name": "python",
   "nbconvert_exporter": "python",
   "pygments_lexer": "ipython3",
   "version": "3.8.3"
  }
 },
 "nbformat": 4,
 "nbformat_minor": 4
}
